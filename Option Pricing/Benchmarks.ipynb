{
 "cells": [
  {
   "cell_type": "code",
   "execution_count": 1,
   "id": "6675f564",
   "metadata": {},
   "outputs": [],
   "source": [
    "import pandas as pd\n",
    "import numpy as np\n",
    "import opstrat as op\n",
    "import matplotlib.pyplot as plt\n",
    "import seaborn as sns\n",
    "import datetime as dt\n",
    "import pandas_datareader.data as web  \n",
    "from tqdm import tqdm\n",
    "import math\n",
    "import warnings \n",
    "from scipy.stats import norm\n",
    "\n",
    "%matplotlib inline\n",
    "%config InlineBackend.figure_format = 'retina'\n",
    "sns.set(palette = 'viridis')"
   ]
  },
  {
   "cell_type": "code",
   "execution_count": 2,
   "id": "876462a2",
   "metadata": {},
   "outputs": [],
   "source": [
    "#данные предоставлены из доски на 9 апреля 2023 года\n",
    "\n",
    "F0_sber = 216.1500\n",
    "F0_lkoh = 4600\n",
    "r = 0.0715     #дюрация 0.1 => процентная ставка 7,15% годовых (ставка ЦБ на 9 апреля 2023 года)\n",
    "T = 38 / 365   #дней до экспирации опциона \n",
    "\n",
    "r_nsdq = 5.15371 / 100\n",
    "T_nsdq = 41 / 365\n",
    "F0_aapl = 175.43\n",
    "F0_amzn = 120.11\n",
    "\n",
    "df_sber = pd.read_csv('Data/SBER_clear_170523_090423.csv')\n",
    "df_lkoh = pd.read_csv('Data/LKOH_clear_170523_090423.csv')\n",
    "df_aapl = pd.read_csv('Data/AAPL_clear_07072023_27052023.csv')\n",
    "df_amzn = pd.read_csv('Data/AMZN_clear_07072023_27052023.csv')\n"
   ]
  },
  {
   "cell_type": "code",
   "execution_count": 3,
   "id": "0d59cb19",
   "metadata": {},
   "outputs": [],
   "source": [
    "num_of_options_sber = df_sber.shape[0]\n",
    "num_of_options_lkoh = df_lkoh.shape[0]\n",
    "num_of_options_amzn = df_amzn.shape[0]\n",
    "num_of_options_aapl = df_aapl.shape[0]"
   ]
  },
  {
   "cell_type": "markdown",
   "id": "fd34e567",
   "metadata": {},
   "source": [
    "#### Ценообразование опционов симуляцией Монте-Карло"
   ]
  },
  {
   "cell_type": "code",
   "execution_count": 6,
   "id": "e67274f6",
   "metadata": {},
   "outputs": [],
   "source": [
    "np.random.seed(1234)\n",
    "# Параметры\n",
    "T = T           # времени до даты экспирации\n",
    "r = r           # безрисковая процентная ставка\n",
    "q = 0.0         # дивидендная доходность актива в период между текущей датой и датой экспирации\n",
    "\n",
    "\n",
    "def calculateMonteCarlo(df, T, r, q, S0, nsteps, npaths):\n",
    "    prices = []\n",
    "    num_of_options = df.shape[0]\n",
    "    \n",
    "    for i in tqdm(range(num_of_options)):\n",
    "\n",
    "        # Параметры модели\n",
    "        sigma = df['IV'][i] # подразумевая волатильность\n",
    "        K = df['Strike'][i] # страйк\n",
    "\n",
    "\n",
    "        # Риск-нейтральная мера\n",
    "        muRN = r - q - 0.5 * sigma ** 2 # drift\n",
    "\n",
    "        Vc_list = np.zeros(nsteps) \n",
    "\n",
    "        # Симуляция Монте-Карло\n",
    "        for i in range(nsteps):\n",
    "            X = muRN * T + sigma * np.sqrt(T) * np.random.normal(size=(1, npaths))\n",
    "            S = S0 * np.exp(X)\n",
    "            Vc_list[i] = np.exp(-r * T) * np.mean(np.maximum(S - K, 0))\n",
    "\n",
    "        # Добавляем итоговую стоимость опциона в датафрейм\n",
    "        Vc = np.mean(Vc_list)\n",
    "        prices.append(Vc)\n",
    "\n",
    "    df['MC Price'] = prices"
   ]
  },
  {
   "cell_type": "code",
   "execution_count": 7,
   "id": "af26e688",
   "metadata": {},
   "outputs": [
    {
     "name": "stderr",
     "output_type": "stream",
     "text": [
      "100%|███████████████████████████████████████████| 33/33 [00:05<00:00,  5.90it/s]\n",
      "100%|███████████████████████████████████████████| 31/31 [00:05<00:00,  5.90it/s]\n"
     ]
    }
   ],
   "source": [
    "calculateMonteCarlo(df_sber, T, r, S0 = F0_sber, q = 0, nsteps = 250, npaths = 20000)\n",
    "calculateMonteCarlo(df_lkoh, T, r, S0 = F0_lkoh, q = 0, nsteps = 250, npaths = 20000)"
   ]
  },
  {
   "cell_type": "code",
   "execution_count": 8,
   "id": "dc3205b9",
   "metadata": {},
   "outputs": [
    {
     "name": "stderr",
     "output_type": "stream",
     "text": [
      "100%|███████████████████████████████████████████| 45/45 [00:07<00:00,  5.69it/s]\n",
      "100%|███████████████████████████████████████████| 40/40 [00:06<00:00,  6.18it/s]\n"
     ]
    }
   ],
   "source": [
    "calculateMonteCarlo(df_amzn, T = T_nsdq, r = r_nsdq, S0 = F0_amzn, q = 0, nsteps = 250, npaths = 20000)\n",
    "calculateMonteCarlo(df_aapl, T = T_nsdq, r = r_nsdq, S0 = F0_aapl, q = 0, nsteps = 250, npaths = 20000)"
   ]
  },
  {
   "cell_type": "code",
   "execution_count": 9,
   "id": "5279a97c",
   "metadata": {},
   "outputs": [
    {
     "name": "stdout",
     "output_type": "stream",
     "text": [
      "MSE SBER:  0.06428162541473353\n",
      "MAE SBER:  0.23937736969989068\n",
      "MSE LKOH:  79.0527151476272\n",
      "MAE LKOH:  8.726348237800224\n"
     ]
    }
   ],
   "source": [
    "from sklearn.metrics import mean_squared_error, mean_absolute_error\n",
    "\n",
    "print('MSE SBER: ', mean_squared_error(y_true = df_sber[\"Price\"], \n",
    "                                  y_pred = df_sber[\"MC Price\"]))\n",
    "print('MAE SBER: ', mean_absolute_error(y_true = df_sber[\"Price\"], \n",
    "                                  y_pred = df_sber[\"MC Price\"]))\n",
    "\n",
    "print('MSE LKOH: ', mean_squared_error(y_true = df_lkoh[\"Price\"], \n",
    "                                  y_pred = df_lkoh[\"MC Price\"]))\n",
    "print('MAE LKOH: ', mean_absolute_error(y_true = df_lkoh[\"Price\"], \n",
    "                                  y_pred = df_lkoh[\"MC Price\"]))"
   ]
  },
  {
   "cell_type": "markdown",
   "id": "630dc8e2",
   "metadata": {},
   "source": [
    "#### Ценообразование опционов биномиальными деревьями"
   ]
  },
  {
   "cell_type": "code",
   "execution_count": 10,
   "id": "60029da7",
   "metadata": {},
   "outputs": [],
   "source": [
    "def Cox_Ross_Rubinstein_Tree(S, K, T, r, sigma, N, option_type):\n",
    "    \n",
    "    u = math.exp(sigma * math.sqrt(T / N));\n",
    "    d = math.exp(-sigma * math.sqrt(T / N));\n",
    "    pu = ((math.exp(r * T / N)) - d)/(u - d);\n",
    "    pd = 1 - pu;\n",
    "    disc = math.exp(-r * T / N);\n",
    "\n",
    "    St = [0] * (N + 1)\n",
    "    C = [0] * (N + 1)\n",
    "    \n",
    "    St[0] = S * d ** N;\n",
    "    \n",
    "    for j in range(1, N + 1): \n",
    "        St[j] = St[j - 1] * u / d;\n",
    "    \n",
    "    for j in range(1, N + 1):\n",
    "        if option_type == 'P':\n",
    "            C[j] = max(K - St[j], 0);\n",
    "        elif option_type == 'C':\n",
    "            C[j] = max(St[j] - K, 0);\n",
    "    \n",
    "    for i in range(N, 0, -1):\n",
    "        for j in range(0, i):\n",
    "            C[j] = disc * (pu * C[j+1] + pd * C[j]);\n",
    "            \n",
    "    return (C[0], St)"
   ]
  },
  {
   "cell_type": "code",
   "execution_count": 11,
   "id": "bf4a8b53",
   "metadata": {},
   "outputs": [],
   "source": [
    "def Jarrow_Rudd_Tree(S, K, T, r, sigma, N, option_type):\n",
    "    \n",
    "    u = math.exp((r - (sigma ** 2 / 2)) * T / N + sigma * math.sqrt(T / N));\n",
    "    d = math.exp((r - (sigma ** 2/2)) * T / N - sigma * math.sqrt(T / N));\n",
    "    pu = 0.5;\n",
    "    pd = 1 - pu;\n",
    "    disc = math.exp(-r * T / N);\n",
    "\n",
    "    St = [0] * (N + 1)\n",
    "    C = [0] * (N + 1)\n",
    "    \n",
    "    St[0] = S * d ** N;\n",
    "    \n",
    "    for j in range(1, N + 1): \n",
    "        St[j] = St[j - 1] * u / d;\n",
    "     \n",
    "    for j in range(1, N + 1):\n",
    "        if option_type == 'P':\n",
    "            C[j] = max(K - St[j], 0);\n",
    "        elif option_type == 'C':\n",
    "            C[j] = max(St[j] - K, 0);\n",
    "    \n",
    "    for i in range(N, 0, -1):\n",
    "        for j in range(0, i):\n",
    "            C[j] = disc * (pu * C[j + 1] + pd * C[j]);\n",
    "           \n",
    "    return (C[0], St)"
   ]
  },
  {
   "cell_type": "code",
   "execution_count": 12,
   "id": "52694522",
   "metadata": {},
   "outputs": [],
   "source": [
    "def calculateBinomialTree(df, T, r, S0, N, tree_type = 'Cox-Ross-Rubinstein'):\n",
    "    num_of_options = df.shape[0]\n",
    "    \n",
    "    if tree_type == 'Cox-Ross-Rubinstein':\n",
    "        bm_crr_prices = []\n",
    "        for i in tqdm(range(num_of_options)):\n",
    "            sigma = df['IV'][i] # волатильность \n",
    "            K = df['Strike'][i] # страйк\n",
    "            current_price_crr = Cox_Ross_Rubinstein_Tree(S = S0, \n",
    "                                                         K = K,\n",
    "                                                         T = T,\n",
    "                                                         r = r,\n",
    "                                                         sigma = sigma,\n",
    "                                                         N = N,\n",
    "                                                         option_type = 'C')\n",
    "            bm_crr_prices.append(current_price_crr[0])\n",
    "            \n",
    "        df['BMCRR Price'] = bm_crr_prices\n",
    "        \n",
    "    if tree_type == 'Jarrow-Rudd':\n",
    "        bm_jr_prices = []\n",
    "        for i in tqdm(range(num_of_options)):\n",
    "            sigma = df['IV'][i] # волатильность \n",
    "            K = df['Strike'][i] # страйк\n",
    "            current_price_jr = Jarrow_Rudd_Tree(S = S0, \n",
    "                                                K = K,\n",
    "                                                T = T,\n",
    "                                                r = r,\n",
    "                                                sigma = sigma,\n",
    "                                                N = N,\n",
    "                                                option_type = 'C')\n",
    "            bm_jr_prices.append(current_price_jr[0])\n",
    "        \n",
    "        df['BMJR Price'] = bm_jr_prices"
   ]
  },
  {
   "cell_type": "code",
   "execution_count": 13,
   "id": "48f99198",
   "metadata": {},
   "outputs": [
    {
     "name": "stderr",
     "output_type": "stream",
     "text": [
      "100%|███████████████████████████████████████████| 33/33 [00:04<00:00,  7.70it/s]\n",
      "100%|███████████████████████████████████████████| 31/31 [00:03<00:00,  7.82it/s]\n",
      "100%|███████████████████████████████████████████| 33/33 [00:04<00:00,  7.91it/s]\n",
      "100%|███████████████████████████████████████████| 31/31 [00:03<00:00,  7.98it/s]\n"
     ]
    }
   ],
   "source": [
    "calculateBinomialTree(df_sber, T, r, S0 = F0_sber, N = 1000, tree_type = 'Cox-Ross-Rubinstein')\n",
    "calculateBinomialTree(df_lkoh, T, r, S0 = F0_lkoh, N = 1000, tree_type = 'Cox-Ross-Rubinstein')\n",
    "\n",
    "calculateBinomialTree(df_sber, T, r, S0 = F0_sber, N = 1000, tree_type = 'Jarrow-Rudd')\n",
    "calculateBinomialTree(df_lkoh, T, r, S0 = F0_lkoh, N = 1000, tree_type = 'Jarrow-Rudd')"
   ]
  },
  {
   "cell_type": "code",
   "execution_count": 14,
   "id": "4302e1fd",
   "metadata": {},
   "outputs": [
    {
     "name": "stderr",
     "output_type": "stream",
     "text": [
      "100%|███████████████████████████████████████████| 40/40 [00:05<00:00,  7.85it/s]\n",
      "100%|███████████████████████████████████████████| 45/45 [00:05<00:00,  7.88it/s]\n",
      "100%|███████████████████████████████████████████| 40/40 [00:05<00:00,  7.70it/s]\n",
      "100%|███████████████████████████████████████████| 45/45 [00:05<00:00,  7.73it/s]\n"
     ]
    }
   ],
   "source": [
    "calculateBinomialTree(df_aapl, T = T_nsdq, r = r_nsdq, S0 = F0_aapl, N = 1000, tree_type = 'Cox-Ross-Rubinstein')\n",
    "calculateBinomialTree(df_amzn, T = T_nsdq, r = r_nsdq, S0 = F0_amzn, N = 1000, tree_type = 'Cox-Ross-Rubinstein')\n",
    "\n",
    "calculateBinomialTree(df_aapl, T = T_nsdq, r = r_nsdq, S0 = F0_aapl, N = 1000, tree_type = 'Jarrow-Rudd')\n",
    "calculateBinomialTree(df_amzn, T = T_nsdq, r = r_nsdq, S0 = F0_amzn, N = 1000, tree_type = 'Jarrow-Rudd')"
   ]
  },
  {
   "cell_type": "code",
   "execution_count": 15,
   "id": "152639f2",
   "metadata": {},
   "outputs": [
    {
     "name": "stdout",
     "output_type": "stream",
     "text": [
      "MSE SBER:  0.06362560748204074\n",
      "MAE SBER:  0.23970951459041623\n",
      "MSE LKOH:  78.46620709916454\n",
      "MAE LKOH:  8.71284785608506\n"
     ]
    }
   ],
   "source": [
    "from sklearn.metrics import mean_squared_error, mean_absolute_error\n",
    "\n",
    "print('MSE SBER: ', mean_squared_error(y_true = df_sber[\"Price\"], \n",
    "                                  y_pred = df_sber[\"BMCRR Price\"]))\n",
    "print('MAE SBER: ', mean_absolute_error(y_true = df_sber[\"Price\"], \n",
    "                                  y_pred = df_sber[\"BMCRR Price\"]))\n",
    "\n",
    "print('MSE LKOH: ', mean_squared_error(y_true = df_lkoh[\"Price\"], \n",
    "                                  y_pred = df_lkoh[\"BMCRR Price\"]))\n",
    "print('MAE LKOH: ', mean_absolute_error(y_true = df_lkoh[\"Price\"], \n",
    "                                  y_pred = df_lkoh[\"BMCRR Price\"]))"
   ]
  },
  {
   "cell_type": "code",
   "execution_count": 16,
   "id": "c91c7560",
   "metadata": {},
   "outputs": [],
   "source": [
    "df_sber.to_csv('Results/sber_final_prices.csv', index = False)\n",
    "df_lkoh.to_csv('Results/lkoh_final_prices.csv', index = False)\n",
    "df_aapl.to_csv('Results/aapl_final_prices.csv', index = False)\n",
    "df_amzn.to_csv('Results/amzn_final_prices.csv', index = False)"
   ]
  },
  {
   "cell_type": "code",
   "execution_count": 19,
   "id": "ad7c395d",
   "metadata": {},
   "outputs": [],
   "source": [
    "from itertools import product\n",
    "\n",
    "models = ['MC Price', 'BMCRR Price', 'BMJR Price']\n",
    "tickers = ['SBER', 'LKOH', 'AAPL', 'AMZN']\n",
    "mse = pd.DataFrame({'Ticker': [i[1] for i in product(models, tickers)],\n",
    "                    'Model': [i[0] for i in product(models, tickers)],\n",
    "                   'MSE': [0]*12})\n",
    "for col in models:\n",
    "    mse['MSE'][(mse['Ticker'] == 'SBER') & (mse['Model'] == col)] = mean_squared_error(y_true = df_sber['Price'], y_pred = df_sber[col])\n",
    "    mse['MSE'][(mse['Ticker'] == 'LKOH') & (mse['Model'] == col)] = mean_squared_error(y_true = df_lkoh['Price'], y_pred = df_lkoh[col])\n",
    "    mse['MSE'][(mse['Ticker'] == 'AAPL') & (mse['Model'] == col)] = mean_squared_error(y_true = df_aapl['Price'], y_pred = df_aapl[col])\n",
    "    mse['MSE'][(mse['Ticker'] == 'AMZN') & (mse['Model'] == col)] = mean_squared_error(y_true = df_amzn['Price'], y_pred = df_amzn[col])"
   ]
  },
  {
   "cell_type": "code",
   "execution_count": 20,
   "id": "9dc06c18",
   "metadata": {},
   "outputs": [],
   "source": [
    "from sklearn.metrics import r2_score\n",
    "models = ['MC Price', 'BMCRR Price', 'BMJR Price']\n",
    "tickers = ['SBER', 'LKOH', 'AAPL', 'AMZN']\n",
    "r_square = pd.DataFrame({'Ticker': [i[1] for i in product(models, tickers)],\n",
    "                    'Model': [i[0] for i in product(models, tickers)],\n",
    "                   'R2': [0]*12})\n",
    "for col in models:\n",
    "    r_square['R2'][(r_square['Ticker'] == 'SBER') & (r_square['Model'] == col)] = (1 - r2_score(y_true = df_sber['Price'], y_pred = df_sber[col]))*100\n",
    "    r_square['R2'][(r_square['Ticker'] == 'LKOH') & (r_square['Model'] == col)] = (1 - r2_score(y_true = df_lkoh['Price'], y_pred = df_lkoh[col]))*100\n",
    "    r_square['R2'][(r_square['Ticker'] == 'AAPL') & (r_square['Model'] == col)] = (1 - r2_score(y_true = df_aapl['Price'], y_pred = df_aapl[col]))*100\n",
    "    r_square['R2'][(r_square['Ticker'] == 'AMZN') & (r_square['Model'] == col)] = (1 - r2_score(y_true = df_amzn['Price'], y_pred = df_amzn[col]))*100\n",
    "    "
   ]
  },
  {
   "cell_type": "code",
   "execution_count": 21,
   "id": "5833ca6a",
   "metadata": {},
   "outputs": [],
   "source": [
    "mse_new = mse.pivot_table(index='Ticker',\n",
    "                    columns=mse.groupby('Ticker').cumcount() + 1,\n",
    "                    values='MSE', \n",
    "                    aggfunc='first')\\\n",
    "        .add_prefix('Model')\\\n",
    "        .reset_index()\\\n",
    "        .rename(columns = {'Model1': 'MC Price', 'Model2': 'BMCRR Price', 'Model3': 'MBJR Price'})\n",
    "\n"
   ]
  },
  {
   "cell_type": "code",
   "execution_count": 22,
   "id": "49bc07f1",
   "metadata": {},
   "outputs": [],
   "source": [
    "r2_new = r_square.pivot_table(index='Ticker',\n",
    "                    columns=r_square.groupby('Ticker').cumcount() + 1,\n",
    "                    values='R2', \n",
    "                    aggfunc='first')\\\n",
    "        .add_prefix('Model')\\\n",
    "        .reset_index()\\\n",
    "        .rename(columns = {'Model1': 'MC Price', 'Model2': 'BMCRR Price', 'Model3': 'MBJR Price'})"
   ]
  },
  {
   "cell_type": "code",
   "execution_count": 23,
   "id": "19bf90d3",
   "metadata": {},
   "outputs": [
    {
     "data": {
      "text/html": [
       "<div>\n",
       "<style scoped>\n",
       "    .dataframe tbody tr th:only-of-type {\n",
       "        vertical-align: middle;\n",
       "    }\n",
       "\n",
       "    .dataframe tbody tr th {\n",
       "        vertical-align: top;\n",
       "    }\n",
       "\n",
       "    .dataframe thead th {\n",
       "        text-align: right;\n",
       "    }\n",
       "</style>\n",
       "<table border=\"1\" class=\"dataframe\">\n",
       "  <thead>\n",
       "    <tr style=\"text-align: right;\">\n",
       "      <th></th>\n",
       "      <th>Ticker</th>\n",
       "      <th>MC Price</th>\n",
       "      <th>BMCRR Price</th>\n",
       "      <th>MBJR Price</th>\n",
       "    </tr>\n",
       "  </thead>\n",
       "  <tbody>\n",
       "    <tr>\n",
       "      <th>0</th>\n",
       "      <td>AAPL</td>\n",
       "      <td>0.004591</td>\n",
       "      <td>0.004820</td>\n",
       "      <td>0.004834</td>\n",
       "    </tr>\n",
       "    <tr>\n",
       "      <th>1</th>\n",
       "      <td>AMZN</td>\n",
       "      <td>0.000714</td>\n",
       "      <td>0.000571</td>\n",
       "      <td>0.000571</td>\n",
       "    </tr>\n",
       "    <tr>\n",
       "      <th>2</th>\n",
       "      <td>LKOH</td>\n",
       "      <td>79.052715</td>\n",
       "      <td>78.466207</td>\n",
       "      <td>78.556913</td>\n",
       "    </tr>\n",
       "    <tr>\n",
       "      <th>3</th>\n",
       "      <td>SBER</td>\n",
       "      <td>0.064282</td>\n",
       "      <td>0.063626</td>\n",
       "      <td>0.063241</td>\n",
       "    </tr>\n",
       "  </tbody>\n",
       "</table>\n",
       "</div>"
      ],
      "text/plain": [
       "  Ticker   MC Price  BMCRR Price  MBJR Price\n",
       "0   AAPL   0.004591     0.004820    0.004834\n",
       "1   AMZN   0.000714     0.000571    0.000571\n",
       "2   LKOH  79.052715    78.466207   78.556913\n",
       "3   SBER   0.064282     0.063626    0.063241"
      ]
     },
     "execution_count": 23,
     "metadata": {},
     "output_type": "execute_result"
    }
   ],
   "source": [
    "mse_new"
   ]
  },
  {
   "cell_type": "code",
   "execution_count": 24,
   "id": "e75ebd7e",
   "metadata": {},
   "outputs": [
    {
     "data": {
      "text/html": [
       "<div>\n",
       "<style scoped>\n",
       "    .dataframe tbody tr th:only-of-type {\n",
       "        vertical-align: middle;\n",
       "    }\n",
       "\n",
       "    .dataframe tbody tr th {\n",
       "        vertical-align: top;\n",
       "    }\n",
       "\n",
       "    .dataframe thead th {\n",
       "        text-align: right;\n",
       "    }\n",
       "</style>\n",
       "<table border=\"1\" class=\"dataframe\">\n",
       "  <thead>\n",
       "    <tr style=\"text-align: right;\">\n",
       "      <th></th>\n",
       "      <th>Ticker</th>\n",
       "      <th>MC Price</th>\n",
       "      <th>BMCRR Price</th>\n",
       "      <th>MBJR Price</th>\n",
       "    </tr>\n",
       "  </thead>\n",
       "  <tbody>\n",
       "    <tr>\n",
       "      <th>0</th>\n",
       "      <td>AAPL</td>\n",
       "      <td>0.000271</td>\n",
       "      <td>0.000285</td>\n",
       "      <td>0.000286</td>\n",
       "    </tr>\n",
       "    <tr>\n",
       "      <th>1</th>\n",
       "      <td>AMZN</td>\n",
       "      <td>0.000296</td>\n",
       "      <td>0.000236</td>\n",
       "      <td>0.000237</td>\n",
       "    </tr>\n",
       "    <tr>\n",
       "      <th>2</th>\n",
       "      <td>LKOH</td>\n",
       "      <td>0.037128</td>\n",
       "      <td>0.036852</td>\n",
       "      <td>0.036895</td>\n",
       "    </tr>\n",
       "    <tr>\n",
       "      <th>3</th>\n",
       "      <td>SBER</td>\n",
       "      <td>0.008218</td>\n",
       "      <td>0.008134</td>\n",
       "      <td>0.008085</td>\n",
       "    </tr>\n",
       "  </tbody>\n",
       "</table>\n",
       "</div>"
      ],
      "text/plain": [
       "  Ticker  MC Price  BMCRR Price  MBJR Price\n",
       "0   AAPL  0.000271     0.000285    0.000286\n",
       "1   AMZN  0.000296     0.000236    0.000237\n",
       "2   LKOH  0.037128     0.036852    0.036895\n",
       "3   SBER  0.008218     0.008134    0.008085"
      ]
     },
     "execution_count": 24,
     "metadata": {},
     "output_type": "execute_result"
    }
   ],
   "source": [
    "r2_new"
   ]
  }
 ],
 "metadata": {
  "kernelspec": {
   "display_name": "Python 3 (ipykernel)",
   "language": "python",
   "name": "python3"
  },
  "language_info": {
   "codemirror_mode": {
    "name": "ipython",
    "version": 3
   },
   "file_extension": ".py",
   "mimetype": "text/x-python",
   "name": "python",
   "nbconvert_exporter": "python",
   "pygments_lexer": "ipython3",
   "version": "3.8.5"
  }
 },
 "nbformat": 4,
 "nbformat_minor": 5
}
