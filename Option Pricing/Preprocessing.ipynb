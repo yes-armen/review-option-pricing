{
 "cells": [
  {
   "cell_type": "code",
   "execution_count": 1,
   "id": "30e13a78",
   "metadata": {},
   "outputs": [],
   "source": [
    "import pandas as pd\n",
    "df_sber = pd.read_csv('Data/moex-SBER-170523-090423.csv', \n",
    "                      delimiter = \";\", decimal = ',', encoding = 'latin-1')\n",
    "\n",
    "df_lkoh = pd.read_csv('Data/moex-LKOH-170523-090423.csv', \n",
    "                      delimiter = \";\", decimal = ',',encoding = 'latin-1')"
   ]
  },
  {
   "cell_type": "code",
   "execution_count": 2,
   "id": "3a63d026",
   "metadata": {},
   "outputs": [],
   "source": [
    "#данные предоставлены из доски на 9 апреля 2023 года\n",
    "\n",
    "sber_call_option_data = df_sber[[\n",
    "    'CALL: Òåîðåòè÷åñêàÿ öåíà', \n",
    "    'ÑÒÐÀÉÊ', \n",
    "    'IV']].rename(columns = {\n",
    "                             'CALL: Òåîðåòè÷åñêàÿ öåíà': 'Price',\n",
    "                             'ÑÒÐÀÉÊ' : 'Strike'})\n",
    "sber_call_option_data['IV'] /= 100\n",
    "\n",
    "lkoh_call_option_data = df_lkoh[[\n",
    "    'CALL: Òåîðåòè÷åñêàÿ öåíà', \n",
    "    'ÑÒÐÀÉÊ', \n",
    "    'IV']].rename(columns = {\n",
    "                             'CALL: Òåîðåòè÷åñêàÿ öåíà': 'Price',\n",
    "                             'ÑÒÐÀÉÊ' : 'Strike'})\n",
    "lkoh_call_option_data['IV'] /= 100"
   ]
  },
  {
   "cell_type": "code",
   "execution_count": 3,
   "id": "a60438e0",
   "metadata": {},
   "outputs": [],
   "source": [
    "sber_call_option_data.to_csv('Data/SBER_clear_170523_090423.csv', index=False)\n",
    "lkoh_call_option_data.to_csv('Data/LKOH_clear_170523_090423.csv', index=False)"
   ]
  },
  {
   "cell_type": "code",
   "execution_count": 4,
   "id": "201da321",
   "metadata": {},
   "outputs": [],
   "source": [
    "df_aapl = pd.read_excel('Data/nsdq-AAPL-07072023-27052023.xlsx')\n",
    "df_amzn = pd.read_excel('Data/nsdq-AMZN-07072023-27052023.xlsx')"
   ]
  },
  {
   "cell_type": "code",
   "execution_count": 5,
   "id": "2cfd8be0",
   "metadata": {},
   "outputs": [],
   "source": [
    "aapl_call_option_data = df_aapl[['Ask', 'Strike']].rename(columns = {'Ask': 'Price'})\n",
    "amzn_call_option_data = df_amzn[['Ask', 'Strike']].rename(columns = {'Ask': 'Price'})"
   ]
  },
  {
   "cell_type": "code",
   "execution_count": 10,
   "id": "f0156d93",
   "metadata": {},
   "outputs": [],
   "source": [
    "import numpy as np\n",
    "from scipy.stats import norm\n",
    "# NASDAQ не публикует подразумеваемую волатильность, поэтому вычисляем ее по формуле Блэка-Шоулза\n",
    "\n",
    "r = 5.15371 / 100\n",
    "T = 41/365\n",
    "F0_aapl = 175.43\n",
    "F0_amzn = 120.11\n",
    "\n",
    "def bs_call(S0, K, T, r, sigma):\n",
    "    d1 = (np.log(S0 / K) + (r + 0.5 * sigma ** 2) * T) / (sigma * np.sqrt(T))\n",
    "    d2 = (np.log(S0 / K) + (r - 0.5 * sigma ** 2) * T) / (sigma * np.sqrt(T))\n",
    "    V = S0 * norm.cdf(d1) - K * np.exp(-r * T) * norm.cdf(d2)\n",
    "    return V\n",
    "\n",
    "def vega(S0, K, T, r, sigma):\n",
    "    d1 = ((np.log(S0 / K) + (r + 0.5 * sigma ** 2) * T) / (sigma * np.sqrt(T)))\n",
    "    vega = S0 * norm.cdf(d1, 0.0, 1.0) * np.sqrt(T)\n",
    "    return vega\n",
    "\n",
    "def implied_vol(S0, K, T, r, C0):\n",
    "    sigma_est = 1\n",
    "    it = 100\n",
    "    for i in range(it):\n",
    "        sigma_est -= (bs_call(S0, K, T, r, sigma_est) - C0) / vega(S0, K, T, r, sigma_est)\n",
    "    return sigma_est"
   ]
  },
  {
   "cell_type": "code",
   "execution_count": 11,
   "id": "f58baba4",
   "metadata": {},
   "outputs": [],
   "source": [
    "aapl_call_option_data['IV'] = implied_vol(\n",
    "            C0 = aapl_call_option_data['Price'],\n",
    "            S0 = F0_aapl, \n",
    "            K = aapl_call_option_data['Strike'],\n",
    "            T = T,\n",
    "            r = r)\n",
    "\n",
    "amzn_call_option_data['IV'] = implied_vol(\n",
    "            C0 = amzn_call_option_data['Price'],\n",
    "            S0 = F0_amzn, \n",
    "            K = amzn_call_option_data['Strike'],\n",
    "            T = T,\n",
    "            r = r)"
   ]
  },
  {
   "cell_type": "code",
   "execution_count": 12,
   "id": "1260f8a2",
   "metadata": {},
   "outputs": [],
   "source": [
    "aapl_call_option_data.to_csv('Data/AAPL_clear_07072023_27052023.csv', index=False)\n",
    "amzn_call_option_data.to_csv('Data/AMZN_clear_07072023_27052023.csv', index=False)"
   ]
  }
 ],
 "metadata": {
  "kernelspec": {
   "display_name": "Python 3 (ipykernel)",
   "language": "python",
   "name": "python3"
  },
  "language_info": {
   "codemirror_mode": {
    "name": "ipython",
    "version": 3
   },
   "file_extension": ".py",
   "mimetype": "text/x-python",
   "name": "python",
   "nbconvert_exporter": "python",
   "pygments_lexer": "ipython3",
   "version": "3.8.5"
  }
 },
 "nbformat": 4,
 "nbformat_minor": 5
}
